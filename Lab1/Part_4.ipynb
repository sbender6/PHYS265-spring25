{
 "cells": [
  {
   "cell_type": "markdown",
   "id": "49f2317c-865c-4aff-a249-4491147df705",
   "metadata": {},
   "source": [
    "# Part 4: Altitude of the Saturn V Rocket"
   ]
  },
  {
   "cell_type": "code",
   "execution_count": 31,
   "id": "04b9a1c4-05d7-4411-b925-36e0bd29f39e",
   "metadata": {},
   "outputs": [],
   "source": [
    "import numpy as np \n",
    "import matplotlib.pyplot as plt \n",
    "from scipy.integrate import quad\n",
    "\n",
    "g = 9.81\n",
    "ve = 2.4*10**3\n",
    "m = 1.3*10**4 \n",
    "m0 = 2.8*10**6\n",
    "mf = 7.5*10**5 "
   ]
  },
  {
   "cell_type": "markdown",
   "id": "2bb16b66-ab88-4033-87d7-7b44478cca77",
   "metadata": {},
   "source": [
    "### 1. The burn time for the first stage of the Saturn V Rocket"
   ]
  },
  {
   "cell_type": "code",
   "execution_count": 47,
   "id": "e9e1ad8f-82e4-487c-ad14-e1e481226ad7",
   "metadata": {},
   "outputs": [
    {
     "name": "stdout",
     "output_type": "stream",
     "text": [
      "SI-C burn time: 158 seconds\n"
     ]
    }
   ],
   "source": [
    "T = (m0-mf)/m\n",
    "print(\"SI-C burn time: \" f\"{T:0.3g}\", \"seconds\") "
   ]
  },
  {
   "cell_type": "raw",
   "id": "6e1c79ff-17f8-4968-ab07-9706251265d0",
   "metadata": {},
   "source": []
  },
  {
   "cell_type": "markdown",
   "id": "467c18a1-1c9a-4f18-9ede-92f54363c11e",
   "metadata": {},
   "source": [
    "### 2. The function of the rocket's change in velocity "
   ]
  },
  {
   "cell_type": "code",
   "execution_count": 46,
   "id": "bd56fe49-8b28-4b43-8579-0e5bb2f0339d",
   "metadata": {},
   "outputs": [
    {
     "name": "stdout",
     "output_type": "stream",
     "text": [
      "SI-C change in velocity after T:  219 meters per second\n"
     ]
    }
   ],
   "source": [
    "t = np.linspace(0, 300, 301) \n",
    "\n",
    "def delta_v(t): \n",
    "    mt = m0-m*t\n",
    "    mt = np.where(mt<mf, mf, mt)\n",
    "    dv_less = ve*(np.log(m0/mt))-g*t\n",
    "    dv_more = ve*(np.log(m0/mf))-g*T-g*(t-T) \n",
    "    dv = np.where(t>T, dv_less, dv_more) \n",
    "\n",
    "    return dv\n",
    "    \n",
    "v = delta_v(t)\n",
    "\n",
    "print(\"SI-C change in velocity after fuel burn time: \" f\" {v[-1]:0.3g}\",\"meters per second\") "
   ]
  },
  {
   "cell_type": "raw",
   "id": "f4e3f763-4a19-40a0-9bb5-ae4b61a5bf41",
   "metadata": {},
   "source": []
  },
  {
   "cell_type": "markdown",
   "id": "9714fbe2-c3eb-48e3-aaa7-5f323d7f3709",
   "metadata": {},
   "source": [
    "### 3. The altitude of the rocket at the end of the burn"
   ]
  },
  {
   "cell_type": "code",
   "execution_count": 56,
   "id": "f045b0ec-51fa-4756-8641-e985d9fa989a",
   "metadata": {},
   "outputs": [
    {
     "name": "stdout",
     "output_type": "stream",
     "text": [
      "SI-C altitude after fuel burn time:  7.41e+04 meters\n"
     ]
    }
   ],
   "source": [
    "def delta_v(t): \n",
    "    mt = m0-m*t\n",
    "    mt = np.where(mt<mf, mf, mt)\n",
    "    dv= ve*(np.log(m0/mt))-g*t\n",
    "\n",
    "    return dv\n",
    "\n",
    "h, _ = quad(delta_v, 0, T) \n",
    "\n",
    "print(\"SI-C altitude after fuel burn time: \" f\" {h:0.3g}\",\"meters\")"
   ]
  },
  {
   "cell_type": "raw",
   "id": "be8eecdd-9ea2-4836-b132-f683f78cda2c",
   "metadata": {},
   "source": []
  }
 ],
 "metadata": {
  "kernelspec": {
   "display_name": "Python 3 (ipykernel)",
   "language": "python",
   "name": "python3"
  },
  "language_info": {
   "codemirror_mode": {
    "name": "ipython",
    "version": 3
   },
   "file_extension": ".py",
   "mimetype": "text/x-python",
   "name": "python",
   "nbconvert_exporter": "python",
   "pygments_lexer": "ipython3",
   "version": "3.12.5"
  }
 },
 "nbformat": 4,
 "nbformat_minor": 5
}
