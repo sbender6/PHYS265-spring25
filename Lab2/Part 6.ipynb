{
 "cells": [
  {
   "cell_type": "markdown",
   "id": "88a07aa8-bbe9-4715-94a9-7ac247eb5785",
   "metadata": {},
   "source": [
    "## Part 6: A lunar mine shaft "
   ]
  },
  {
   "cell_type": "code",
   "execution_count": 1,
   "id": "0fc1d34f-179f-444a-a75b-9fa7384668c0",
   "metadata": {},
   "outputs": [],
   "source": [
    "import numpy as np \n",
    "import matplotlib.pyplot as plt \n",
    "from scipy.integrate import solve_ivp"
   ]
  },
  {
   "cell_type": "code",
   "execution_count": 2,
   "id": "25c529fc-7577-4259-aaf9-c32a36749936",
   "metadata": {},
   "outputs": [],
   "source": [
    "G = 6.6743*10**-11 # gravitational constant [m^3/kg/s^2]\n",
    "g0 = 9.81 # gravitational acceleration [m/s^2]\n",
    "Me = 5.972*10**24 # mass of the earth [kg] \n",
    "Mm = 7.35*10**22 # mass of the moon [kg] \n",
    "Re = 6378.1e3 # radius of the earth [m] \n",
    "Rm = 1738.1e3 # radius of the moon [m] \n",
    "w = 7.272*10**-5 # earth's rotation rate at the equator [rad/s]"
   ]
  },
  {
   "cell_type": "markdown",
   "id": "6ea7d351-5526-43b2-a396-84f7a39828ab",
   "metadata": {},
   "source": [
    "### 1. "
   ]
  },
  {
   "cell_type": "code",
   "execution_count": 4,
   "id": "f10e3ca2-b19f-4b68-997b-a9de971e7174",
   "metadata": {},
   "outputs": [
    {
     "name": "stdout",
     "output_type": "stream",
     "text": [
      "If we dig a pole-to-pole mine shaft through the moon, it would take 1624.9065288236504 seconds to reach the center, passing through with a speed of 1679.94775284833 m/s\n"
     ]
    }
   ],
   "source": [
    "alph = 0 \n",
    "gam = 2\n",
    "\n",
    "def gm(y): \n",
    "    g0m = G*Mm/Rm**2\n",
    "    gr = -g0m*y/Rm\n",
    "    return gr\n",
    "\n",
    "def Eq6(t, b): \n",
    "    y, v = b\n",
    "\n",
    "    dydt = v \n",
    "    dvdt = gm(y)\n",
    "    return [dydt, dvdt]\n",
    "\n",
    "t0, tf = 0, 2000\n",
    "t_eval = np.linspace(t0, tf, 10000) \n",
    "\n",
    "y0 = Rm \n",
    "v0 = 0 \n",
    "ic = [y0, v0] \n",
    "\n",
    "def stop(t, s): \n",
    "    y, v = s \n",
    "    return y \n",
    "\n",
    "stop.terminal = False \n",
    "\n",
    "sol = solve_ivp(fun=Eq6, t_span=(t0, tf), y0=ic, t_eval=t_eval, events=stop) \n",
    "\n",
    "pos = sol.y[0] \n",
    "vel = sol.y[1]\n",
    "t_vals = sol.t\n",
    "\n",
    "print(f\"If we dig a pole-to-pole mine shaft through the moon, it would take {sol.t_events[0][0]} seconds to reach the center, passing through with a speed of {np.abs(sol.y_events[0][0][1])} m/s\") "
   ]
  },
  {
   "cell_type": "markdown",
   "id": "b9849f18-0cd9-4e68-af4a-9552d0843486",
   "metadata": {},
   "source": [
    "### 2. "
   ]
  },
  {
   "cell_type": "code",
   "execution_count": 5,
   "id": "66de93ad-8e16-4f77-ba14-50151599ede8",
   "metadata": {},
   "outputs": [
    {
     "name": "stdout",
     "output_type": "stream",
     "text": [
      "The density of the Earth is 5494.867409551201 kg/m³, and the density of the moon is 3341.753803870318 kg/m³. The Earth is 2153.1136056808828 kg/m³ denser than the moon.\n"
     ]
    }
   ],
   "source": [
    "Dm = Mm/(4/3*np.pi*Rm**3) \n",
    "De = Me/(4/3*np.pi*Re**3) \n",
    "\n",
    "print(f\"The density of the Earth is {De} kg/m\\u00b3, and the density of the moon is {Dm} kg/m\\u00b3. The Earth is {De-Dm} kg/m\\u00b3 denser than the moon.\") "
   ]
  },
  {
   "cell_type": "markdown",
   "id": "a978fa4d-0298-418d-bb44-5411ca229b56",
   "metadata": {},
   "source": [
    "### 3.  "
   ]
  },
  {
   "cell_type": "code",
   "execution_count": 7,
   "id": "266b904c-aa3d-49d2-9dd0-d834793a104a",
   "metadata": {},
   "outputs": [
    {
     "name": "stdout",
     "output_type": "stream",
     "text": [
      "The orbit time on Earth is 5069.371199675784 seconds, while the orbit time on the moon is 6500.480746965868 seconds. This shows that a higher density results in a shorter orbit time.\n"
     ]
    }
   ],
   "source": [
    "ote = np.sqrt(3*np.pi/(G*De)) \n",
    "otm = np.sqrt(3*np.pi/(G*Dm)) \n",
    "print(f\"The orbit time on Earth is {ote} seconds, while the orbit time on the moon is {otm} seconds. This shows that a higher density results in a shorter orbit time.\") "
   ]
  },
  {
   "cell_type": "markdown",
   "id": "3a2f70d4-6fa3-4035-95da-5ea89d80acd1",
   "metadata": {},
   "source": [
    "The centripetal acceleration, or gravity:\n",
    "$g=\\frac{v_{orbit}^2}{R}$\n",
    "\n",
    "Orbital velocity:\n",
    "\n",
    "$v_{orbit}=\\frac{2 \\pi R}{T}$\n",
    "\n",
    "Another way to write gravity g:\n",
    "\n",
    "$g=\\frac{GM}{R^2}$\n",
    "\n",
    "Another way to write mass to include density:\n",
    "\n",
    "$M=\\frac{4}{3} \\pi R^3 \\rho$\n",
    "\n",
    "Combining the equations:\n",
    "\n",
    "$g=\\frac{4 \\pi^2 R} {T^2}=\\frac{4}{3} \\pi G R \\rho$\n",
    "\n",
    "Rearranging:\n",
    "\n",
    "$T=\\sqrt{\\frac{3 \\pi}{G \\rho}} $\n",
    "\n",
    "Relationship: \n",
    "\n",
    "$T \\propto \\sqrt{\\frac{1}{\\rho}} $"
   ]
  },
  {
   "cell_type": "code",
   "execution_count": null,
   "id": "a64a8542-16b6-4c07-931b-81bfaa8a7d4a",
   "metadata": {},
   "outputs": [],
   "source": []
  }
 ],
 "metadata": {
  "kernelspec": {
   "display_name": "Python 3 (ipykernel)",
   "language": "python",
   "name": "python3"
  },
  "language_info": {
   "codemirror_mode": {
    "name": "ipython",
    "version": 3
   },
   "file_extension": ".py",
   "mimetype": "text/x-python",
   "name": "python",
   "nbconvert_exporter": "python",
   "pygments_lexer": "ipython3",
   "version": "3.12.5"
  }
 },
 "nbformat": 4,
 "nbformat_minor": 5
}
