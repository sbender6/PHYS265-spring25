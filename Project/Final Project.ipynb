{
 "cells": [
  {
   "cell_type": "markdown",
   "id": "9c1e413e-f099-4528-b18e-189305788f60",
   "metadata": {},
   "source": [
    "# MCMC Hammer\n",
    "### Sophia Bender\n",
    "### 5/18/2025"
   ]
  },
  {
   "cell_type": "markdown",
   "id": "d84157ef-d13d-4c62-9caa-1c79b56ab873",
   "metadata": {},
   "source": [
    "[1]  Emcee implements Goodman & Weare's affine-invariant Markov Chain Monte Carlo (MCMC) Ensemble sampler into Python, in order to perform Bayesian parameter estimation. This means that, instead of simply finding the 'best fit' parameters, emcee helps estimate the probability distributions of model parameters based on prior beliefs. These probability distributions can then be refined using observed data. Emcee is great at handling uncertainty in a principled, probabilistic way, and it can explore complex, high-dimensional parameter spaces efficiently. "
   ]
  },
  {
   "cell_type": "markdown",
   "id": "7c956089-c497-4f1c-8733-f5a34d8cb340",
   "metadata": {},
   "source": [
    "[2] I selected emcee because it is one of the most downloaded codes used in papers, and it appears to be extremely useful for dealing with uncertainties and unknown parameters, which there are a lot of in physics. Since I am interested in particle physics especially, I think understanding how emcee works would be helpful to me in the future."
   ]
  },
  {
   "cell_type": "markdown",
   "id": "421d1cc1-7291-4bc4-ab3f-05647c78d594",
   "metadata": {},
   "source": [
    "[3] Emcee was first developed in 2010 by Dan Foreman-Mackey, and other contributors. The current version of emcee is 3.1.6, which was released on April 19, 2024. It has many predecessors and successors or alternatives that inspired, extends, or complements it. Before emcee came `PyMC`, which was a python package that used MCMC in a heavier, more general-purpose way. Later versions of `PyMC` that followed the creation of emcee are more advanced, and more automatic than emcee. `CosmoMC` was another MCMC-based python package that came before emcee, but was specialized to cosmology. Some more packages that came after emcee are: `Pystan`, which uses Hamiltonian Monte Carlo for Bayesian inference, `NumPyro`, which supports modern inference methods, and `Dynesty`, which was developed by the same author as emcee and is better for computing Bayesian evidence. "
   ]
  },
  {
   "cell_type": "markdown",
   "id": "6a8c96c1-7ee7-4027-9382-4d63ada3c24b",
   "metadata": {},
   "source": [
    "[4] Emcee is still currently being maintained by its original authors. The GitHub repository lists 67 contributors, and it seems to garner much community engagement. "
   ]
  },
  {
   "cell_type": "markdown",
   "id": "c48abadf-87d0-42ad-957a-784223756cc5",
   "metadata": {},
   "source": [
    "[5/6]  Emcee was incredibly easy to install as a python library. As it is a third-party library, it required the `!pip install` command, as well as the import command. I used the package to fit an artificial model to a data, which required quite a bit of set up in order to get to the point of using emcee. I would say the usage was not that simple."
   ]
  },
  {
   "cell_type": "code",
   "execution_count": 44,
   "id": "0866b664-fedc-440f-848b-6d6ddaefcbc2",
   "metadata": {},
   "outputs": [
    {
     "name": "stdout",
     "output_type": "stream",
     "text": [
      "Requirement already satisfied: emcee in c:\\users\\sophi\\appdata\\roaming\\jupyterlab-desktop\\envs\\env_1\\lib\\site-packages (3.1.6)\n",
      "Requirement already satisfied: numpy in c:\\users\\sophi\\appdata\\roaming\\jupyterlab-desktop\\envs\\env_1\\lib\\site-packages (from emcee) (2.1.0)\n"
     ]
    }
   ],
   "source": [
    "!pip install emcee"
   ]
  },
  {
   "cell_type": "code",
   "execution_count": 5,
   "id": "935bb9b2-7e5c-4f93-ab8f-eebce7cf8a5e",
   "metadata": {},
   "outputs": [],
   "source": [
    "import emcee "
   ]
  },
  {
   "cell_type": "markdown",
   "id": "c48ac1e8-e8c9-45bd-a62c-bf5d975b9ef2",
   "metadata": {},
   "source": [
    "[7] You can inspect the source code through the GitHub repository, by using Python's inspect module, or going into the site-packages folder. "
   ]
  },
  {
   "cell_type": "code",
   "execution_count": 6,
   "id": "9b984cf5-0547-412b-85e9-d6eb3e788a86",
   "metadata": {},
   "outputs": [
    {
     "name": "stdout",
     "output_type": "stream",
     "text": [
      "\\\\?\\C:\\Users\\Sophi\\AppData\\Roaming\\jupyterlab-desktop\\envs\\env_1\\Lib\\site-packages\\emcee\\__init__.py\n"
     ]
    }
   ],
   "source": [
    "import inspect \n",
    "print(inspect.getfile(emcee)) "
   ]
  },
  {
   "cell_type": "markdown",
   "id": "d01b2267-8446-404c-9731-8f0fbf63b63b",
   "metadata": {},
   "source": [
    "[8] `Gammapy` is an open-source Python package for gamma-ray astronomy that employs emcee for MCMC sampling in spectral and spacial model fitting. `Bilby` is a Bayesian inference library designed for gravitational-wave astronomy, and it provides a flexible interface to various samplers, including emcee. "
   ]
  },
  {
   "cell_type": "markdown",
   "id": "0e859210-ed7d-4f23-863f-310a45ce01d0",
   "metadata": {},
   "source": [
    "[9] Emcee can be used on standard python script for large experiments or when integrated into data piplelines, and Jupyter Notebooks for research and education. "
   ]
  },
  {
   "cell_type": "markdown",
   "id": "4a8494d5-b02b-4639-95cc-6677ad8e54b9",
   "metadata": {},
   "source": [
    "[10] Here is an example where we fit a model to data with a generative probabilistic model, a maximum likelihood estimation, and a marginalization and uncertainty estimation using emcee. "
   ]
  },
  {
   "cell_type": "code",
   "execution_count": 9,
   "id": "93de3953-618d-40ed-9db5-ff4344be850e",
   "metadata": {},
   "outputs": [
    {
     "name": "stderr",
     "output_type": "stream",
     "text": [
      "100%|██████████| 5000/5000 [00:05<00:00, 914.81it/s]\n"
     ]
    }
   ],
   "source": [
    "import numpy as np\n",
    "import matplotlib.pyplot as plt\n",
    "\n",
    "np.random.seed(1224)\n",
    "\n",
    "# Choose the \"true\" parameters.\n",
    "m_true = -1.20\n",
    "b_true = 5.13\n",
    "f_true = 0.2006\n",
    "\n",
    "# Generate some synthetic data from the model.\n",
    "N = 50\n",
    "x = np.sort(10 * np.random.rand(N))\n",
    "yerr = 0.1 + 0.5 * np.random.rand(N)\n",
    "y = m_true * x + b_true\n",
    "y += np.abs(f_true * y) * np.random.randn(N)\n",
    "y += yerr * np.random.randn(N)\n",
    "\n",
    "x0 = np.linspace(0, 10, 500)\n",
    "\n",
    "A = np.vander(x, 2)\n",
    "C = np.diag(yerr * yerr)\n",
    "ATA = np.dot(A.T, A / (yerr**2)[:, None])\n",
    "cov = np.linalg.inv(ATA)\n",
    "w = np.linalg.solve(ATA, np.dot(A.T, y / yerr**2))\n",
    "\n",
    "def log_likelihood(theta, x, y, yerr):\n",
    "    m, b, log_f = theta\n",
    "    model = m * x + b\n",
    "    sigma2 = yerr**2 + model**2 * np.exp(2 * log_f)\n",
    "    return -0.5 * np.sum((y - model) ** 2 / sigma2 + np.log(sigma2))\n",
    "\n",
    "from scipy.optimize import minimize\n",
    "\n",
    "np.random.seed(42)\n",
    "nll = lambda *args: -log_likelihood(*args)\n",
    "initial = np.array([m_true, b_true, np.log(f_true)]) + 0.1 * np.random.randn(3)\n",
    "soln = minimize(nll, initial, args=(x, y, yerr))\n",
    "m_ml, b_ml, log_f_ml = soln.x\n",
    "\n",
    "def log_prior(theta):\n",
    "    m, b, log_f = theta\n",
    "    if -5.0 < m < 0.5 and 0.0 < b < 10.0 and -10.0 < log_f < 1.0:\n",
    "        return 0.0\n",
    "    return -np.inf\n",
    "\n",
    "def log_probability(theta, x, y, yerr):\n",
    "    lp = log_prior(theta)\n",
    "    if not np.isfinite(lp):\n",
    "        return -np.inf\n",
    "    return lp + log_likelihood(theta, x, y, yerr)\n",
    "    \n",
    "pos = soln.x + 1e-4 * np.random.randn(32, 3)\n",
    "nwalkers, ndim = pos.shape\n",
    "\n",
    "sampler = emcee.EnsembleSampler(\n",
    "    nwalkers, ndim, log_probability, args=(x, y, yerr)\n",
    ")\n",
    "sampler.run_mcmc(pos, 5000, progress=True);\n",
    "\n",
    "samples = sampler.get_chain()"
   ]
  },
  {
   "cell_type": "markdown",
   "id": "b403486c-e3a6-4491-a3b3-e344bc50e474",
   "metadata": {},
   "source": [
    "[11] Matplotlib must be employed to generate figures, as emcee does not produce figures itself. "
   ]
  },
  {
   "cell_type": "markdown",
   "id": "422202dd-e7d4-4685-9f22-131ce9c97a88",
   "metadata": {},
   "source": [
    "[12] Here is a figure of a diagnostic plot that projects the results into the space of the observed data. I chose 200 samples from the chain and plotted them on top of the data points. "
   ]
  },
  {
   "cell_type": "code",
   "execution_count": 10,
   "id": "1d303f1a-09ce-4a87-9b37-85f3408fa968",
   "metadata": {},
   "outputs": [
    {
     "name": "stdout",
     "output_type": "stream",
     "text": [
      "(10432, 3)\n"
     ]
    },
    {
     "data": {
      "image/png": "[encoded data removed]",
      "text/plain": [
       "<Figure size 640x480 with 1 Axes>"
      ]
     },
     "metadata": {},
     "output_type": "display_data"
    }
   ],
   "source": [
    "flat_samples = sampler.get_chain(discard=100, thin=15, flat=True)\n",
    "print(flat_samples.shape)\n",
    "\n",
    "inds = np.random.randint(len(flat_samples), size=200)\n",
    "for ind in inds:\n",
    "    sample = flat_samples[ind]\n",
    "    plt.plot(x0, np.dot(np.vander(x0, 2), sample[:2]), \"C1\", alpha=0.1)\n",
    "plt.errorbar(x, y, yerr=yerr, fmt=\".k\", capsize=0)\n",
    "plt.plot(x0, m_true * x0 + b_true, \"k\", label=\"truth\")\n",
    "plt.legend(fontsize=14)\n",
    "plt.xlim(0, 10)\n",
    "plt.xlabel(\"x\")\n",
    "plt.ylabel(\"y\");"
   ]
  },
  {
   "cell_type": "markdown",
   "id": "831c01b1-5b15-487a-9320-030cee886d69",
   "metadata": {},
   "source": [
    "[13] Emcee is purely python, and does not need accompanying code. "
   ]
  },
  {
   "cell_type": "markdown",
   "id": "53481c54-cfed-47d0-ba53-303d99c093ef",
   "metadata": {},
   "source": [
    "[14] The core input to emcee is a log-probability function that takes theta, which is a vector of model parameters, and returns a single scalar value of the log of the posterior probability. Aside from the core input, you will also need a NumPy array of shape, number of walkers (independent chains), and number of parameters (dimensions of theta). You must come up with and handle the data on your own, as emcee does not take the data directly. The data can be synthetically generated before calling the sampler. "
   ]
  },
  {
   "cell_type": "markdown",
   "id": "1b26fe63-f16e-4539-9c32-bb5efa2ee4fb",
   "metadata": {},
   "source": [
    "[15] The primary output of emcee is the chain of samples from the posterior distribution of your model parameters. You can also get a flattened chain, which is a cleaned, reshaped posterior for plots and analysis, and you can get a log-probability for each sample. "
   ]
  },
  {
   "cell_type": "markdown",
   "id": "b8166294-1506-4057-ace1-378970f69251",
   "metadata": {},
   "source": [
    "[16] Emcee includes a many unit tests to ensure the correctness and stability of its core functionalities. These tests are part of the package's source code, and can be executed to verify that the installation and internal operations are functioning as expected. If the test fails after a code change, it indicates a regression. Emcee doesn't have a dedicated benchmarking suite. "
   ]
  },
  {
   "cell_type": "markdown",
   "id": "b08668f3-7119-47ea-8b2d-8fba8af07b25",
   "metadata": {},
   "source": [
    "[17] To ensure confidence in the result that emcee provides, you can run an internal unit test using `emcee.test()` to confirm the code is behaving as expected. You can manually check regression using Python's `pytest` feature. "
   ]
  },
  {
   "cell_type": "markdown",
   "id": "7f32474e-8173-46d3-a230-a18b16a22cec",
   "metadata": {},
   "source": [
    "[18] Emcee depends on NumPy. Other libraries that are not for basic usage but can be used in addition to emcee are `pytest`, `SciPy`, `matplotlib`, and `corner`. I used the `!pip show emcee` command to determine the required library. A section on the emcee Github called `pyproject.toml` also provides a list of dependencies. "
   ]
  },
  {
   "cell_type": "code",
   "execution_count": 2,
   "id": "cc49d02b-8084-4403-9fac-ed20c6d89610",
   "metadata": {},
   "outputs": [
    {
     "name": "stdout",
     "output_type": "stream",
     "text": [
      "Name: emcee\n",
      "Version: 3.1.6\n",
      "Summary: The Python ensemble sampling toolkit for MCMC\n",
      "Home-page: https://emcee.readthedocs.io\n",
      "Author: Daniel Foreman-Mackey\n",
      "Author-email: foreman.mackey@gmail.com\n",
      "License: MIT\n",
      "Location: C:\\Users\\Sophi\\AppData\\Roaming\\jupyterlab-desktop\\envs\\env_1\\Lib\\site-packages\n",
      "Requires: numpy\n",
      "Required-by: \n"
     ]
    }
   ],
   "source": [
    "!pip show emcee "
   ]
  },
  {
   "cell_type": "markdown",
   "id": "b5c13dc4-235a-493f-9c87-1af5e656d9d6",
   "metadata": {},
   "source": [
    "[19] The emcee Github repository directs you to the website https://emcee.readthedocs.io This website provided all the documentation, as well as many examples and explanations for how the code can be used. I found these to be sufficient, and used one of the examples for my own code for this project, with my own randomly generated data. The paper by Dan Foreman-Mackey also provides details about the emcee algorithm and its usage. "
   ]
  },
  {
   "cell_type": "markdown",
   "id": "0dcc2aed-0154-42a0-9e37-f180f420a05a",
   "metadata": {},
   "source": [
    "[20] They request that people cite the paper by Foreman-Mackey, Hogg, Lang & Goodman (2012) if the code is used in research. "
   ]
  },
  {
   "cell_type": "markdown",
   "id": "a7d4e8c3-89ea-4e1d-899e-a7a375a097a7",
   "metadata": {},
   "source": [
    "[21] \n",
    "- Preferred citation: https://arxiv.org/abs/1202.3665\n",
    "- emcee GitHub Repository: https://github.com/dfm/emcee\n",
    "- emcee GitHub Read the Docs: https://emcee.readthedocs.io/en/stable/\n",
    "- David MacKay's Information Theory, Inference, and Learning Algorithms: https://www.inference.org.uk/itprnn/book.pdf"
   ]
  },
  {
   "cell_type": "markdown",
   "id": "02f696d5-738a-46f7-8c4f-06d2aad672b5",
   "metadata": {},
   "source": [
    "[22] \n",
    "Using ADS there are 10665 citations to \"emcee: The MCMC Hammer\", including: \n",
    "- Transit timing variations of the sub-Saturn exoplanet HAT-P-12b: https://ui.adsabs.harvard.edu/#abs/2025NewA..11902390P/abstract\n",
    "- Studying orbital period variations of XY Leo through updated eclipse times and multi-model analysis: https://ui.adsabs.harvard.edu/#abs/2025NewA..11802374N/abstract"
   ]
  },
  {
   "cell_type": "markdown",
   "id": "7e3641bb-c001-4cde-a5bf-2bc32601142d",
   "metadata": {},
   "source": [
    "[23] I did not have to learn new python methods to use this package. Generating artificial data and running fit models were all things we've done in class. "
   ]
  },
  {
   "cell_type": "markdown",
   "id": "ef42935b-ed56-41f3-b0ea-7e76541b85ad",
   "metadata": {},
   "source": [
    "[24] I have not had prior experience with emcee. I did collaborate with others, but we all used separate code, examples, and data. "
   ]
  },
  {
   "cell_type": "code",
   "execution_count": null,
   "id": "7fc1f44a-221d-456a-8263-ba7d0e52e9fb",
   "metadata": {},
   "outputs": [],
   "source": []
  }
 ],
 "metadata": {
  "kernelspec": {
   "display_name": "Python 3 (ipykernel)",
   "language": "python",
   "name": "python3"
  },
  "language_info": {
   "codemirror_mode": {
    "name": "ipython",
    "version": 3
   },
   "file_extension": ".py",
   "mimetype": "text/x-python",
   "name": "python",
   "nbconvert_exporter": "python",
   "pygments_lexer": "ipython3",
   "version": "3.12.5"
  }
 },
 "nbformat": 4,
 "nbformat_minor": 5
}
